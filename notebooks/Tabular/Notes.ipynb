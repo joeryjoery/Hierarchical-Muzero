{
 "cells": [
  {
   "cell_type": "code",
   "execution_count": null,
   "id": "curious-budget",
   "metadata": {},
   "outputs": [],
   "source": [
    "# Q-table visualization\n",
    "plt.figure(figsize=(8, 8))\n",
    "\n",
    "# Get the trained agent's policy over the entire table for visualizing its greedy policy.\n",
    "actions = np.argmax(agent._q_table, axis=-1)\n",
    "\n",
    "# Get undefined coordinates for removing clutter in the image.\n",
    "mask = env.unwrapped.maze.objects.obstacle.positions.tolist() + env.unwrapped.maze.objects.goal.positions.tolist()\n",
    "mask = set(map(tuple, mask))\n",
    "\n",
    "positions, motions = list(), list()\n",
    "for i, a in enumerate(actions.ravel()):\n",
    "    pos = np.unravel_index(i, shape=actions.shape)\n",
    "    positions.append(pos)\n",
    "    motions.append(env.unwrapped.motions[a] if pos not in mask else [0, 0])\n",
    "\n",
    "# Define a grid and extract for each grid-point a correct Quiver/ Arrow direction for visualizing the action-selection policy.\n",
    "X, Y = list(zip(*positions))\n",
    "V, U = list(zip(*motions))\n",
    "\n",
    "U = np.asarray(U)\n",
    "V = np.negative(V)  # Motion is inverted vertically.\n",
    "\n",
    "# Show the maze image with overlayed quivers. The minlength=0.0 argument removes all quivers on invalid states.\n",
    "plt.imshow(img)\n",
    "plt.quiver(Y, X, U, V, scale=20, minlength=0.0, pivot='middle', linewidth=0.1) \n",
    "\n",
    "\n",
    "plt.show()"
   ]
  }
 ],
 "metadata": {
  "kernelspec": {
   "display_name": "Python 3",
   "language": "python",
   "name": "python3"
  },
  "language_info": {
   "codemirror_mode": {
    "name": "ipython",
    "version": 3
   },
   "file_extension": ".py",
   "mimetype": "text/x-python",
   "name": "python",
   "nbconvert_exporter": "python",
   "pygments_lexer": "ipython3",
   "version": "3.7.10"
  }
 },
 "nbformat": 4,
 "nbformat_minor": 5
}
