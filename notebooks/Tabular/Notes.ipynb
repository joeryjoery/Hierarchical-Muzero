{
 "cells": [
  {
   "cell_type": "code",
   "execution_count": 1,
   "id": "mexican-oregon",
   "metadata": {},
   "outputs": [],
   "source": [
    "# Reload dependencies upon changes\n",
    "%load_ext autoreload\n",
    "%autoreload 2"
   ]
  },
  {
   "cell_type": "markdown",
   "id": "grateful-delaware",
   "metadata": {},
   "source": [
    "## Dependencies"
   ]
  },
  {
   "cell_type": "code",
   "execution_count": 2,
   "id": "compliant-insider",
   "metadata": {},
   "outputs": [],
   "source": [
    "from functools import partial\n",
    "import typing\n",
    "import sys\n",
    "\n",
    "import numpy as np\n",
    "import gym\n",
    "import tqdm\n",
    "import matplotlib.pyplot as plt\n",
    "\n",
    "from mazelab_experimenter import EnvRegister\n",
    "from mazelab_experimenter import AgentShelve\n",
    "from mazelab_experimenter import benchmark, GenericOuterHook"
   ]
  },
  {
   "cell_type": "code",
   "execution_count": 3,
   "id": "general-entry",
   "metadata": {},
   "outputs": [
    {
     "data": {
      "image/png": "[encoded data removed]",
      "text/plain": [
       "<Figure size 432x288 with 1 Axes>"
      ]
     },
     "metadata": {
      "needs_background": "light"
     },
     "output_type": "display_data"
    }
   ],
   "source": [
    "name_gridworld = EnvRegister.register(\n",
    "    maze_type='gridworld', \n",
    "    name=f'gridworld-v0', \n",
    "    env_args=dict(\n",
    "        binary_rewards=True\n",
    "    ),\n",
    "    generator_args=dict(height=12, width=12),\n",
    "    initialization_args=dict(\n",
    "        start_pos=[[1, 1]], goal_pos=[[10, 10]]\n",
    "    ),\n",
    "    time_limit=1000,\n",
    "    override=True\n",
    ")\n",
    "gridworld = gym.make(name_gridworld)\n",
    "\n",
    "# Illustrate the randomly generated maze. \n",
    "_ = gridworld.reset()\n",
    "\n",
    "img_a = gridworld.unwrapped.get_image()\n",
    "gridworld.close()\n",
    "\n",
    "plt.imshow(img_a)\n",
    "plt.title(\"10x10 Gridworld Example\")\n",
    "\n",
    "plt.show()"
   ]
  },
  {
   "cell_type": "code",
   "execution_count": 11,
   "id": "wrapped-centre",
   "metadata": {},
   "outputs": [
    {
     "data": {
      "text/plain": [
       "<Signature (observation_shape: 'typing.Tuple[int, int]', n_actions: 'int', lr: 'float' = 0.5, decay: 'float' = 0.9, n_steps: 'int' = None, epsilon: 'float' = 0.1, discount: 'float' = 0.95, replace: 'bool' = False, decay_lr: 'float' = -0.5, eta: 'float' = 0.0, beta: 'float' = 0.5, sarsa: 'bool' = False, q_init: 'float' = 0.0) -> 'None'>"
      ]
     },
     "execution_count": 11,
     "metadata": {},
     "output_type": "execute_result"
    }
   ],
   "source": [
    "AgentShelve.get_keyword_args('TabularQET')"
   ]
  },
  {
   "cell_type": "code",
   "execution_count": 82,
   "id": "after-restaurant",
   "metadata": {},
   "outputs": [
    {
     "data": {
      "text/plain": [
       "{'QLearning = QET(0, 1)': <mazelab_experimenter.agents.agents.TabularQET at 0x202d1595148>,\n",
       " 'Q(Lambda) = QET(0.9, 1)': <mazelab_experimenter.agents.agents.TabularQET at 0x202d15951c8>,\n",
       " 'QET(Lambda) = QET(0.9, 0)': <mazelab_experimenter.agents.agents.TabularQET at 0x202d1595188>}"
      ]
     },
     "execution_count": 82,
     "metadata": {},
     "output_type": "execute_result"
    }
   ],
   "source": [
    "QET_args = {  # Use replacing eligibility traces\n",
    "    'QLearning = QET(0, 1)': dict(eta=1.0, beta=1.0, decay=0.0, replace=True, decay_lr=0.0),\n",
    "    'Q(Lambda) = QET(0.9, 1)': dict(eta=1.0, beta=1.0, decay=0.9, replace=True, decay_lr=0.0),\n",
    "    'QET(Lambda) = QET(0.9, 0)': dict(eta=0.0, beta=1.0, decay=0.9, replace=True, decay_lr=0.0)\n",
    "}\n",
    "\n",
    "agents = {\n",
    "    k: AgentShelve.retrieve(\n",
    "        agent='TabularQET', \n",
    "        keyword_arguments=dict(\n",
    "            observation_shape = gridworld.observation_space.shape,\n",
    "            n_actions = gridworld.action_space.n,\n",
    "            **v  # Agent specific args\n",
    "        )\n",
    "    )\n",
    "    for k, v in QET_args.items()\n",
    "}\n",
    "\n",
    "agents"
   ]
  },
  {
   "cell_type": "code",
   "execution_count": 83,
   "id": "compliant-management",
   "metadata": {},
   "outputs": [
    {
     "name": "stdout",
     "output_type": "stream",
     "text": [
      "QLearning = QET(0, 1)\n",
      "TabularQLearning Training: 0it [00:00, ?it/s]\n",
      "TabularQLearning Training: 100%|█████████████████████████████████████████████████████████| 1/1 [00:00<00:00, 11.90it/s]\n",
      "TabularQLearning Training: 100%|█████████████████████████████████████████████████████████| 1/1 [00:00<00:00, 12.98it/s]\n",
      "TabularQLearning Training: 100%|█████████████████████████████████████████████████████████| 1/1 [00:00<00:00,  9.71it/s]\n",
      "TabularQLearning Training: 100%|█████████████████████████████████████████████████████████| 1/1 [00:00<00:00, 10.64it/s]\n",
      "TabularQLearning Training: 100%|█████████████████████████████████████████████████████████| 1/1 [00:00<00:00, 45.32it/s]\n",
      "TabularQLearning Training: 100%|█████████████████████████████████████████████████████████| 1/1 [00:00<00:00, 27.77it/s]\n",
      "TabularQLearning Training: 100%|█████████████████████████████████████████████████████████| 1/1 [00:00<00:00, 33.33it/s]\n",
      "TabularQLearning Training: 100%|█████████████████████████████████████████████████████████| 1/1 [00:00<00:00,  9.09it/s]\n",
      "TabularQLearning Training: 100%|█████████████████████████████████████████████████████████| 1/1 [00:00<00:00, 35.71it/s]\n",
      "TabularQLearning Training: 100%|█████████████████████████████████████████████████████████| 1/1 [00:00<00:00, 27.78it/s]\n",
      "Q(Lambda) = QET(0.9, 1)\n",
      "TabularQLearning Training: 0it [00:00, ?it/s]\n",
      "TabularQLearning Training: 100%|█████████████████████████████████████████████████████████| 1/1 [00:00<00:00, 23.79it/s]\n",
      "TabularQLearning Training: 100%|█████████████████████████████████████████████████████████| 1/1 [00:00<00:00, 21.28it/s]\n",
      "TabularQLearning Training: 100%|█████████████████████████████████████████████████████████| 1/1 [00:00<00:00, 90.93it/s]\n",
      "TabularQLearning Training: 100%|█████████████████████████████████████████████████████████| 1/1 [00:00<00:00, 50.00it/s]\n",
      "TabularQLearning Training: 100%|█████████████████████████████████████████████████████████| 1/1 [00:00<00:00, 19.23it/s]\n",
      "TabularQLearning Training: 100%|█████████████████████████████████████████████████████████| 1/1 [00:00<00:00, 17.24it/s]\n",
      "TabularQLearning Training: 100%|█████████████████████████████████████████████████████████| 1/1 [00:00<00:00, 16.66it/s]\n",
      "TabularQLearning Training: 100%|█████████████████████████████████████████████████████████| 1/1 [00:00<00:00, 33.33it/s]\n",
      "TabularQLearning Training: 100%|█████████████████████████████████████████████████████████| 1/1 [00:00<00:00, 35.65it/s]\n",
      "TabularQLearning Training: 100%|█████████████████████████████████████████████████████████| 1/1 [00:00<00:00, 23.81it/s]\n",
      "QET(Lambda) = QET(0.9, 0)\n",
      "TabularQLearning Training: 0it [00:00, ?it/s]\n",
      "TabularQLearning Training: 100%|█████████████████████████████████████████████████████████| 1/1 [00:00<00:00, 32.25it/s]\n",
      "TabularQLearning Training: 100%|█████████████████████████████████████████████████████████| 1/1 [00:00<00:00, 26.29it/s]\n",
      "TabularQLearning Training: 100%|█████████████████████████████████████████████████████████| 1/1 [00:00<00:00, 22.22it/s]\n",
      "TabularQLearning Training: 100%|█████████████████████████████████████████████████████████| 1/1 [00:00<00:00, 25.64it/s]\n",
      "TabularQLearning Training: 100%|█████████████████████████████████████████████████████████| 1/1 [00:00<00:00, 90.95it/s]\n",
      "TabularQLearning Training: 100%|█████████████████████████████████████████████████████████| 1/1 [00:00<00:00,  4.74it/s]\n",
      "TabularQLearning Training: 100%|█████████████████████████████████████████████████████████| 1/1 [00:00<00:00, 21.28it/s]\n",
      "TabularQLearning Training: 100%|█████████████████████████████████████████████████████████| 1/1 [00:00<00:00, 62.36it/s]\n",
      "TabularQLearning Training: 100%|█████████████████████████████████████████████████████████| 1/1 [00:00<00:00, 33.30it/s]\n",
      "TabularQLearning Training: 100%|█████████████████████████████████████████████████████████| 1/1 [00:00<00:00, 32.22it/s]\n"
     ]
    }
   ],
   "source": [
    "data = {}\n",
    "for name, agent in agents.items():\n",
    "    print(name)\n",
    "    q_tables = list()\n",
    "    trace_model = list()\n",
    "    for it in [0, 1, 1, 1, 1, 1, 1, 1, 1, 1, 1]:\n",
    "        agent.train(gridworld, it, True)\n",
    "        q_tables.append(np.copy(agent._q_table))\n",
    "        trace_model.append(np.copy(agent.trace_model))\n",
    "    \n",
    "    data[name] = {'q_tables': q_tables, 'trace_model': trace_model}"
   ]
  },
  {
   "cell_type": "code",
   "execution_count": 84,
   "id": "nuclear-basics",
   "metadata": {},
   "outputs": [],
   "source": [
    "def extract_value(table):\n",
    "    return table.max(axis=-1).reshape(gridworld.observation_space.shape)[1:-1, 1:-1]"
   ]
  },
  {
   "cell_type": "code",
   "execution_count": 85,
   "id": "moved-speaking",
   "metadata": {},
   "outputs": [
    {
     "data": {
      "image/png": "[encoded data removed]",
      "text/plain": [
       "<Figure size 1080x360 with 10 Axes>"
      ]
     },
     "metadata": {
      "needs_background": "light"
     },
     "output_type": "display_data"
    },
    {
     "data": {
      "image/png": "[encoded data removed]",
      "text/plain": [
       "<Figure size 1080x360 with 10 Axes>"
      ]
     },
     "metadata": {
      "needs_background": "light"
     },
     "output_type": "display_data"
    },
    {
     "data": {
      "image/png": "[encoded data removed]",
      "text/plain": [
       "<Figure size 1080x360 with 10 Axes>"
      ]
     },
     "metadata": {
      "needs_background": "light"
     },
     "output_type": "display_data"
    }
   ],
   "source": [
    "for agent, results in data.items():\n",
    "\n",
    "    fig, axs = plt.subplots(2, 5, figsize=(15, 5))\n",
    "\n",
    "    for i, tab in enumerate(results['q_tables'][1:11]):\n",
    "        axs[i // 5, i % 5].imshow(extract_value(tab))\n",
    "        axs[i // 5, i % 5].axis('off')\n",
    "        axs[i // 5, i % 5].set_title(f\"it: {i}\")\n",
    "        \n",
    "    plt.suptitle(agent)\n",
    "    plt.show()"
   ]
  },
  {
   "cell_type": "code",
   "execution_count": null,
   "id": "dependent-abraham",
   "metadata": {},
   "outputs": [],
   "source": []
  },
  {
   "cell_type": "code",
   "execution_count": null,
   "id": "responsible-discipline",
   "metadata": {},
   "outputs": [],
   "source": []
  }
 ],
 "metadata": {
  "kernelspec": {
   "display_name": "Python 3",
   "language": "python",
   "name": "python3"
  },
  "language_info": {
   "codemirror_mode": {
    "name": "ipython",
    "version": 3
   },
   "file_extension": ".py",
   "mimetype": "text/x-python",
   "name": "python",
   "nbconvert_exporter": "python",
   "pygments_lexer": "ipython3",
   "version": "3.7.10"
  }
 },
 "nbformat": 4,
 "nbformat_minor": 5
}
