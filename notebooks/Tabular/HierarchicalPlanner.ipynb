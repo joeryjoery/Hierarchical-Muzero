{
 "cells": [
  {
   "cell_type": "code",
   "execution_count": 1,
   "id": "southwest-carter",
   "metadata": {},
   "outputs": [],
   "source": [
    "# Reload dependencies upon changes\n",
    "%load_ext autoreload\n",
    "%autoreload 2"
   ]
  },
  {
   "cell_type": "code",
   "execution_count": 2,
   "id": "purple-football",
   "metadata": {},
   "outputs": [],
   "source": [
    "from functools import partial\n",
    "import typing\n",
    "import sys\n",
    "\n",
    "import numpy as np\n",
    "import gym\n",
    "import tqdm\n",
    "import matplotlib.pyplot as plt\n",
    "\n",
    "from mazelab_experimenter import EnvRegister\n",
    "from mazelab_experimenter import AgentShelve\n",
    "from mazelab_experimenter import evaluate, GenericOuterHook, benchmark\n",
    "from mazelab_experimenter.utils import find"
   ]
  },
  {
   "cell_type": "code",
   "execution_count": 59,
   "id": "departmental-guest",
   "metadata": {},
   "outputs": [
    {
     "name": "stdout",
     "output_type": "stream",
     "text": [
      "Warning: Environment gridworld_hierq-v0 is already registered in Gym. Override existing environment: True\n"
     ]
    }
   ],
   "source": [
    "name_gridworld = EnvRegister.register(\n",
    "    maze_type='gridworld', \n",
    "    name=f'gridworld_hierq-v0', \n",
    "    env_args=dict(\n",
    "        shortest_path_rewards=True, track_states=True\n",
    "    ),\n",
    "    generator_args=dict(height=12, width=12),\n",
    "    initialization_args=dict(\n",
    "        start_pos=[[1, 1]], goal_pos=[[10, 10]]\n",
    "    ),\n",
    "    time_limit=1000,\n",
    "    override=True\n",
    ")\n",
    "\n",
    "env = gym.make(name_gridworld)\n",
    "\n",
    "\n",
    "agent = AgentShelve.retrieve(\n",
    "    agent='HierQ',\n",
    "    keyword_arguments=dict(\n",
    "        observation_shape=env.observation_space.shape,\n",
    "        n_actions=env.action_space.n,\n",
    "        n_levels=2,\n",
    "        horizons=[3, 200],\n",
    "        lr=0.8, discount=0.997, epsilon=0.25\n",
    "    ))\n",
    "agent.set_goal(agent._get_index(env.unwrapped.maze.get_end_pos()[0]))"
   ]
  },
  {
   "cell_type": "code",
   "execution_count": 63,
   "id": "designed-market",
   "metadata": {},
   "outputs": [
    {
     "name": "stdout",
     "output_type": "stream",
     "text": [
      "HierQ Training: 100%|███████████████████████████████████████████████████████████████| 100/100 [00:00<00:00, 118.00it/s]\n"
     ]
    }
   ],
   "source": [
    "agent.train(env, 100, True)"
   ]
  },
  {
   "cell_type": "code",
   "execution_count": 68,
   "id": "embedded-father",
   "metadata": {},
   "outputs": [
    {
     "data": {
      "text/plain": [
       "<matplotlib.image.AxesImage at 0x1bb848957c8>"
      ]
     },
     "execution_count": 68,
     "metadata": {},
     "output_type": "execute_result"
    },
    {
     "data": {
      "image/png": "[encoded data removed]",
      "text/plain": [
       "<Figure size 432x288 with 1 Axes>"
      ]
     },
     "metadata": {
      "needs_background": "light"
     },
     "output_type": "display_data"
    }
   ],
   "source": [
    "plt.imshow(np.sum(env.unwrapped.state_count_memory, axis=0))"
   ]
  },
  {
   "cell_type": "code",
   "execution_count": null,
   "id": "suspended-spare",
   "metadata": {},
   "outputs": [],
   "source": []
  },
  {
   "cell_type": "code",
   "execution_count": 66,
   "id": "worldwide-faith",
   "metadata": {},
   "outputs": [
    {
     "data": {
      "text/plain": [
       "array([[0., 0., 0., 0., 0., 0., 0., 0., 0., 0., 0., 0.],\n",
       "       [0., 0., 0., 0., 0., 0., 0., 0., 0., 0., 0., 0.],\n",
       "       [0., 1., 1., 2., 0., 0., 0., 0., 0., 0., 0., 0.],\n",
       "       [0., 0., 0., 2., 1., 1., 1., 0., 0., 0., 0., 0.],\n",
       "       [0., 0., 0., 0., 0., 0., 1., 0., 0., 0., 0., 0.],\n",
       "       [0., 0., 0., 0., 0., 0., 1., 1., 2., 2., 0., 0.],\n",
       "       [0., 0., 0., 0., 0., 0., 0., 0., 1., 2., 0., 0.],\n",
       "       [0., 0., 0., 0., 0., 0., 0., 0., 1., 2., 1., 0.],\n",
       "       [0., 0., 0., 0., 0., 0., 0., 0., 0., 0., 1., 0.],\n",
       "       [0., 0., 0., 0., 0., 0., 0., 0., 0., 0., 1., 0.],\n",
       "       [0., 0., 0., 0., 0., 0., 0., 0., 0., 0., 1., 0.],\n",
       "       [0., 0., 0., 0., 0., 0., 0., 0., 0., 0., 0., 0.]])"
      ]
     },
     "execution_count": 66,
     "metadata": {},
     "output_type": "execute_result"
    }
   ],
   "source": [
    "env.unwrapped.state_count"
   ]
  }
 ],
 "metadata": {
  "kernelspec": {
   "display_name": "Python 3",
   "language": "python",
   "name": "python3"
  },
  "language_info": {
   "codemirror_mode": {
    "name": "ipython",
    "version": 3
   },
   "file_extension": ".py",
   "mimetype": "text/x-python",
   "name": "python",
   "nbconvert_exporter": "python",
   "pygments_lexer": "ipython3",
   "version": "3.7.10"
  }
 },
 "nbformat": 4,
 "nbformat_minor": 5
}
