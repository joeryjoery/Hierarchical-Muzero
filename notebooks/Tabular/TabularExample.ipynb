{
 "cells": [
  {
   "cell_type": "markdown",
   "metadata": {},
   "source": [
    "# Example Experiment Notebook with Tabular Reinforcement Learning Agents\n",
    "\n",
    "*Author*: Joery A. de Vries\n",
    "\n",
    "This notebook is intended to illustrate the designed API built on top of MazeLab for running gridworld/ tabular environment reinforcement learning experiments.\n",
    "\n",
    "**Structure of this notebook**:\n",
    " - Dependencies\n",
    " - Basic API\n",
    "     - EnvironmentRegister\n",
    "     - AgentShelve\n",
    " - Example experiment Q-learning.\n",
    " - Benchmarking API\n",
    "      - Flat Q-learning Vs. DynaQ."
   ]
  },
  {
   "cell_type": "code",
   "execution_count": 1,
   "metadata": {},
   "outputs": [],
   "source": [
    "# Reload dependencies upon changes\n",
    "%load_ext autoreload\n",
    "%autoreload 2"
   ]
  },
  {
   "cell_type": "markdown",
   "metadata": {},
   "source": [
    "## Dependencies"
   ]
  },
  {
   "cell_type": "code",
   "execution_count": 2,
   "metadata": {},
   "outputs": [],
   "source": [
    "from functools import partial\n",
    "import typing\n",
    "import sys\n",
    "\n",
    "import numpy as np\n",
    "import gym\n",
    "import tqdm\n",
    "import matplotlib.pyplot as plt\n",
    "\n",
    "from mazelab_experimenter import EnvRegister\n",
    "from mazelab_experimenter import AgentShelve\n",
    "from mazelab_experimenter import benchmark, GenericOuterHook"
   ]
  },
  {
   "cell_type": "markdown",
   "metadata": {},
   "source": [
    "## The Environment Register\n",
    "\n",
    "The [MazeLab API](https://github.com/zuoxingdong/mazelab) can be extended and accessed to easily interfaced with OpenAI Gym through the `EnvRegister`. This is merely a wrapper for instantiating varying maze-environments. This functionality can be useful for setting up experiments through one unified API. The code snippets below illustrate the functionality and the available options."
   ]
  },
  {
   "cell_type": "code",
   "execution_count": 3,
   "metadata": {},
   "outputs": [
    {
     "name": "stdout",
     "output_type": "stream",
     "text": [
      "Help on class EnvRegister in module mazelab_experimenter.Environment:\n",
      "\n",
      "class EnvRegister(builtins.object)\n",
      " |  Static utility class to serve as a wrapper to register custom MazeLab environments in the OpenAI Gym interface.\n",
      " |  \n",
      " |  Static methods defined here:\n",
      " |  \n",
      " |  get_initialization_args() -> str\n",
      " |      Get the initialization arguments needed for instantiating an *agent* in a MazeLab environment.\n",
      " |      :returns: str Example/ dummy dictionary string for formatting the initialization argument for initializing an agent.\n",
      " |  \n",
      " |  get_keyword_args(maze_type: str) -> inspect.Signature\n",
      " |      Retrieve the environment/ generator specific function arguments for a particular MazeLab environment.\n",
      " |      \n",
      " |      :param maze_type: str One of the module names within EnvRegister._MODULES\n",
      " |      :see: EnvRegister.get_types to retrieve a list of all generators\n",
      " |      :see: mazelab.generators for the backend code of the generators\n",
      " |  \n",
      " |  get_types() -> List[str]\n",
      " |      Get all available implemented MazeLab environments from `mazelab.generators`\n",
      " |  \n",
      " |  register(maze_type: str, name: str, env_args: dict, generator_args: dict, initialization_args: dict, time_limit: int = 200, override: bool = False) -> str\n",
      " |      Register an available MazeLab environment with fixed environment parameters as a gym Environment.\n",
      " |      \n",
      " |      This function makes the configured MazeLab environment accesible through `env = gym.make(name)`.\n",
      " |      \n",
      " |      :param maze_type: str One of the available generators given in EnvRegister.\n",
      " |      :param name: str Environment ID to register the MazeLab environment on.\n",
      " |      :param env_args: dict Data structure that contains miscelaneous keyword argments to the MazeLab Environment.\n",
      " |      :param generator_ags: dict Data structure that contains all parameters to call the specified environment generator.\n",
      " |      :param initialization_args: dict Data structure that contains the start and goal states for the agent.\n",
      " |      :param time_limit: int Maximum number of steps before closing the gym Environment.\n",
      " |      :param overrid: bool If an environment is already registered by 'name', override the existing environment.\n",
      " |      \n",
      " |      :returns: name str Equal to the `name` parameter to allow convenient initialization through `gym.make(EnvRegister.register(...))`\n",
      " |      \n",
      " |      :see: EnvRegister.get_types for a list of all available maze_types.\n",
      " |      :see: EnvRegister.get_keyword_args for retrieving all generator_args needed for each maze_type.\n",
      " |      :see: EnvRegister.get_initialization_args for retrieving all initialization_args for the MazeLab environment.\n",
      " |  \n",
      " |  unregister(name: str) -> None\n",
      " |      Unregister a registered environment. \n",
      " |      Usage of this function can be prevented by registering environments under unambiguous IDs.\n",
      " |      :param name: str Name of the registered environment to remove.\n",
      " |  \n",
      " |  ----------------------------------------------------------------------\n",
      " |  Data descriptors defined here:\n",
      " |  \n",
      " |  __dict__\n",
      " |      dictionary for instance variables (if defined)\n",
      " |  \n",
      " |  __weakref__\n",
      " |      list of weak references to the object (if defined)\n",
      "\n"
     ]
    }
   ],
   "source": [
    "# Print out the API of the EnvRegister static class.\n",
    "help(EnvRegister)"
   ]
  },
  {
   "cell_type": "code",
   "execution_count": 4,
   "metadata": {},
   "outputs": [
    {
     "name": "stdout",
     "output_type": "stream",
     "text": [
      "Currently there are 10 registered Maze environments in MazeLab framework BackEnd.\n",
      " 0: double_t_maze\n",
      " 1: dyna_example\n",
      " 2: four_rooms\n",
      " 3: morris_water_maze\n",
      " 4: n_rooms_square\n",
      " 5: prebuilts\n",
      " 6: random_maze\n",
      " 7: random_shape_maze\n",
      " 8: t_maze\n",
      " 9: u_maze\n"
     ]
    }
   ],
   "source": [
    "print(f\"Currently there are {len(EnvRegister.get_types())} registered Maze environments in MazeLab framework BackEnd.\")\n",
    "for i, e in enumerate(EnvRegister.get_types()):\n",
    "    print(f\"{i:2d}: {e}\")"
   ]
  },
  {
   "cell_type": "markdown",
   "metadata": {},
   "source": [
    "**Note**: Environments need to be registered in OpenAI Gym before you can instantiate it with the `gym.make` call. \n",
    "\n",
    "The code below illustrates usage of the EnvRegister API in an experiment involving a random controller."
   ]
  },
  {
   "cell_type": "code",
   "execution_count": 5,
   "metadata": {},
   "outputs": [],
   "source": [
    "def example_usage_ER() -> None:\n",
    "    # Register and initialize a dummy random maze of dimensions 10x10 with a time limit of 5 steps.\n",
    "    h, w, t = 10, 10, 5\n",
    "    name = EnvRegister.register(\n",
    "        maze_type='random_maze', \n",
    "        name=f'example_usage-v0', \n",
    "        env_args=dict(\n",
    "            shortest_path_rewards=True\n",
    "        ),\n",
    "        generator_args=dict(\n",
    "            width=w, height=h\n",
    "        ),\n",
    "        initialization_args=dict(\n",
    "            start_pos=[[1, 1]], goal_pos=[[2, 2]]\n",
    "        ),\n",
    "        time_limit=t\n",
    "    )\n",
    "    env = gym.make(name)\n",
    "    motions = env.unwrapped.motions  # Metadata for plotting later on\n",
    "    \n",
    "    # Let a random controller play in the maze and collect state-images.\n",
    "    state, g, done, _ = env.reset(), 0, False, None\n",
    "    imgs, actions = [env.unwrapped.get_image()], []\n",
    "    \n",
    "    while not done:\n",
    "        # Update to the next state.\n",
    "        a = np.random.randint(env.action_space.n)\n",
    "        state, r, done, _ = env.step(a)\n",
    "        \n",
    "        # Update storage.\n",
    "        g += r\n",
    "        imgs.append(env.unwrapped.get_image())\n",
    "        actions.append(a)\n",
    "\n",
    "    # Close and unregister the example environment to avoid clashes later on.\n",
    "    env.close()\n",
    "    EnvRegister.unregister(name)\n",
    "        \n",
    "    # Show what the agent did during the short control episode.\n",
    "    f, axarr = plt.subplots(1, len(imgs), figsize=(len(imgs) * 4, 4))\n",
    "    \n",
    "    def add_frame(idx: int, img: np.ndarray, title: str = \"\") -> None:\n",
    "        # Helper plotting function.\n",
    "        axarr[idx].imshow(img, interpolation=None)\n",
    "        axarr[idx].set_title(title)\n",
    "    \n",
    "    for i in range(len(imgs)):  # Neatly plot all frames and with their preceding actions.\n",
    "        add_frame(i, imgs[i], f'action = {motions[actions[i-1]]}' if i > 0 else \"\")\n",
    "    \n",
    "    plt.show()\n",
    "    "
   ]
  },
  {
   "cell_type": "markdown",
   "metadata": {},
   "source": [
    "\n",
    "**Run example**: You can run the snippet example below to execute the function defined above, try running it multiple times to see that the random agent occasionally reaches the goal and that the environment terminates accordingly!\n"
   ]
  },
  {
   "cell_type": "code",
   "execution_count": 6,
   "metadata": {},
   "outputs": [
    {
     "data": {
      "image/png": "[encoded data removed]",
      "text/plain": [
       "<Figure size 1728x288 with 6 Axes>"
      ]
     },
     "metadata": {
      "needs_background": "light"
     },
     "output_type": "display_data"
    }
   ],
   "source": [
    "example_usage_ER()"
   ]
  },
  {
   "cell_type": "markdown",
   "metadata": {},
   "source": [
    "**Note**: to add MazeLab environments, write a generic generator function in the `mazelab/generators/` module and import it in the `mazelab/generators/__init__.py` file! See the code for examples."
   ]
  },
  {
   "cell_type": "markdown",
   "metadata": {},
   "source": [
    "## The Agent Shelve\n",
    "\n",
    "After defining tabular environments in your imported OpenAI Gym module, you could use any of the implemented tabular reinforcement learning algorithms to solve the environments. This shelve of agents also includes the original dijkstra solver from MazeLab to compare learned solutions to the optimal paths. The code samples below illustrate this API's functionality, which is entirely supplementary to the EnvRegister."
   ]
  },
  {
   "cell_type": "code",
   "execution_count": 7,
   "metadata": {},
   "outputs": [
    {
     "name": "stdout",
     "output_type": "stream",
     "text": [
      "Help on class AgentShelve in module mazelab_experimenter.AgentShelve:\n",
      "\n",
      "class AgentShelve(builtins.object)\n",
      " |  Static utility class for retrieving and defining agents to interface with various algorithms that can act in the OpenAI Gym interface.\n",
      " |  \n",
      " |  Static methods defined here:\n",
      " |  \n",
      " |  get_keyword_args(agent: str) -> inspect.Signature\n",
      " |      Retrieve the class constructor arguments for a specified agent.\n",
      " |      \n",
      " |      :param agent: str One of the agent names within AgentShelve._IMPLEMENTED\n",
      " |      :see: mazelab.generators\n",
      " |  \n",
      " |  get_types()\n",
      " |      Get all available implemented agents defined in _IMPLEMENTED. :see: mazelab_experimenter.agents for the backend code.\n",
      " |  \n",
      " |  print_interface()\n",
      " |      Access the documentation of the basic Agent interface.\n",
      " |  \n",
      " |  retrieve(agent: str, keyword_arguments: dict) -> mazelab_experimenter.agents.interface.Agent\n",
      " |      Instantiate and return an implemented agent algorithm.\n",
      " |      \n",
      " |      All agents are designed to interface with OpenAI gym environments.\n",
      " |      \n",
      " |      :param agent: str Name of the agent to retrieve.\n",
      " |      :param keyword_arguments: dict Class constructor arguments for the specified agent.\n",
      " |      :see: AgentShelve.get_types for all available agent implementations.\n",
      " |      :see: AgentShelve.get_keyword_args for the required constructor arguments of any agent.\n",
      " |  \n",
      " |  ----------------------------------------------------------------------\n",
      " |  Data descriptors defined here:\n",
      " |  \n",
      " |  __dict__\n",
      " |      dictionary for instance variables (if defined)\n",
      " |  \n",
      " |  __weakref__\n",
      " |      list of weak references to the object (if defined)\n",
      "\n"
     ]
    }
   ],
   "source": [
    "# Print out the API of the AgentShelve static class.\n",
    "help(AgentShelve)"
   ]
  },
  {
   "cell_type": "code",
   "execution_count": 8,
   "metadata": {},
   "outputs": [
    {
     "name": "stdout",
     "output_type": "stream",
     "text": [
      "Currently there are 4 available agents in the MazeLab_experimenter BackEnd.\n",
      " 0: TabularQLearner\n",
      " 1: TabularDynaQ\n",
      " 2: MonteCarloQLearner\n",
      " 3: RandomAgent\n"
     ]
    }
   ],
   "source": [
    "print(f\"Currently there are {len(AgentShelve.get_types())} available agents in the MazeLab_experimenter BackEnd.\")\n",
    "for i, e in enumerate(AgentShelve.get_types()):\n",
    "    print(f\"{i:2d}: {e}\")"
   ]
  },
  {
   "cell_type": "markdown",
   "metadata": {},
   "source": [
    "Agents defined in the AgentShelve are allowed to follow their own unique interface with the exception of three primitive methods, these are inherited from the base Agent class. This base class requries all derived classes to implement a `sample`, `update`, and `reset` method. The snippet below prints out the interface documentation."
   ]
  },
  {
   "cell_type": "code",
   "execution_count": 9,
   "metadata": {},
   "outputs": [
    {
     "name": "stdout",
     "output_type": "stream",
     "text": [
      "Help on class Agent in module mazelab_experimenter.agents.interface:\n",
      "\n",
      "class Agent(abc.ABC)\n",
      " |  Agent(observation_shape: Tuple, n_actions: int) -> None\n",
      " |  \n",
      " |  Basic Agent interface, inherit this class to implement algorithms compatible with the experimentation API.\n",
      " |  \n",
      " |  Method resolution order:\n",
      " |      Agent\n",
      " |      abc.ABC\n",
      " |      builtins.object\n",
      " |  \n",
      " |  Methods defined here:\n",
      " |  \n",
      " |  __init__(self, observation_shape: Tuple, n_actions: int) -> None\n",
      " |      Initialize root with domain dimensions. \n",
      " |      :param observation_shape: tuple Indicates the dimensionality of the environment's observations.\n",
      " |      :param n_actions: int The environment's action space dimension.\n",
      " |  \n",
      " |  reset(self) -> None\n",
      " |      Refreshes all stateful variables/ reinitializes the agent.\n",
      " |  \n",
      " |  sample(self, state: numpy.ndarray, **kwargs) -> Union[int, float, numpy.ndarray]\n",
      " |      Sample an action given an environment context (state) and return an action.\n",
      " |  \n",
      " |  train(self, _env: gym.core.Env, **kwargs) -> None\n",
      " |      Base method definition for training an Agent transparently to the user. \n",
      " |      \n",
      " |      The functionality of this method depends on the derived class and does not need to be inherited. \n",
      " |      :param _env: gym.Env The environment to train your agent on.\n",
      " |  \n",
      " |  update(self, **kwargs) -> None\n",
      " |      Update the agent's internal state/ adapt its policy for learning.\n",
      " |  \n",
      " |  ----------------------------------------------------------------------\n",
      " |  Data descriptors defined here:\n",
      " |  \n",
      " |  __dict__\n",
      " |      dictionary for instance variables (if defined)\n",
      " |  \n",
      " |  __weakref__\n",
      " |      list of weak references to the object (if defined)\n",
      " |  \n",
      " |  ----------------------------------------------------------------------\n",
      " |  Data and other attributes defined here:\n",
      " |  \n",
      " |  __abstractmethods__ = frozenset({'reset', 'sample', 'update'})\n",
      "\n"
     ]
    }
   ],
   "source": [
    "AgentShelve.print_interface()"
   ]
  },
  {
   "cell_type": "markdown",
   "metadata": {},
   "source": [
    "## Example experiment with simple Tabular Q-Learning\n",
    "Agents that are retrieved from the AgentShelve can conveniently be interface with the OpenAI Gym module. If an agent is a Reinforcement Learning agent/ can adapt its parameters based on sequential decision making, the agent can be trained in two methods. The agent can either have its own training loop that is implemented in the `Agent.train` method, or you can write your own training loop and canonically update the Agent's parameters through the `Agent.update` call. The keyword arguments of these function varies over algorithms, which may make the `Agent.train` functionality more convenient.\n",
    "\n",
    "In the following code snippets we define our own training and evaluation loop to illustrate the functionality outside the `Agent.train` function. We do this using a simple Tabular Q-learning agent. This agent is initialized with various parameters and most importantly a state-action value table (Q-table). During training, for choosing an action among a discrete set $\\{a_1, \\cdots, a_N\\}$ given some current environment state $s_t$, the agent either consults its Q-table through maximization or acts uniformly random ($\\epsilon$-greedy):\n",
    "\n",
    "$$a_t \\sim b(a \\: | \\: s_t) = \\begin{cases}\\max_a Q(s_t, a) & \\text{Greedy with probability }1 - \\epsilon \\\\ \\text{Unif}(\\{a_1, \\cdots, a_N\\}) & \\text{Uniformly random with probability }\\epsilon \\end{cases}$$\n",
    "\n",
    "The Q-table is updated based on the state-transition tuple $\\langle s_t, a_t, r_{t+1}, s_{t+1} \\rangle$, for which the user can either specify a SARSA update (bootstrap according to $b(a \\: | \\: s_{t+1})$) or a Q-learning update (bootstrap according to the greedy policy $\\pi_*(a \\: | \\: s_{t+1})$. Denote a policy $\\pi(s)\\rightarrow a$ as a function that maps states to actions, then the update rule for the tabular Q-learning agent is defined as:\n",
    "\n",
    "$$Q(s_t, a_t) = Q(s_t, a_t) + \\alpha [r_t + \\gamma Q(s_{t+1}, \\pi(s_{t+1})) - Q(s_t, a_t)]$$\n",
    "\n",
    "Here, $\\alpha$ is the learning rate and $\\gamma$ is a discount factor. For a complete overview of this method, see the book by \\[[R. Sutton and A. Barto, 2018](http://incompleteideas.net/book/the-book-2nd.html)\\]."
   ]
  },
  {
   "cell_type": "markdown",
   "metadata": {},
   "source": [
    "**Example code**: we register a new randomly generated random-shape-maze and illustrate the problem visually. You can run the snippet multiple times to generate varying environments."
   ]
  },
  {
   "cell_type": "code",
   "execution_count": 10,
   "metadata": {},
   "outputs": [
    {
     "data": {
      "image/png": "[encoded data removed]",
      "text/plain": [
       "<Figure size 432x288 with 1 Axes>"
      ]
     },
     "metadata": {
      "needs_background": "light"
     },
     "output_type": "display_data"
    }
   ],
   "source": [
    "# Create and register a MazeLab random-shape-maze.\n",
    "w, h, t = 10, 10, 500\n",
    "name = EnvRegister.register(\n",
    "    maze_type='random_shape_maze', \n",
    "    name=f'q_learning_example-v0', \n",
    "    env_args=dict(\n",
    "        shortest_path_rewards=True\n",
    "    ),\n",
    "    generator_args=dict(\n",
    "        width=w, height=h, max_shapes=4, max_size=4, allow_overlap=False, shape=None\n",
    "    ),\n",
    "    initialization_args=dict(\n",
    "        start_pos=[[1, 1]], goal_pos=[[8, 8]]\n",
    "    ),\n",
    "    time_limit=t,\n",
    "    override=True\n",
    ")\n",
    "\n",
    "# Instantiate the registered MazeLab environment as a Gym environment.\n",
    "env = gym.make(name)\n",
    "\n",
    "# Illustrate the randomly generated maze. \n",
    "_ = env.reset()\n",
    "img = env.unwrapped.get_image()\n",
    "env.close()\n",
    "\n",
    "plt.imshow(img)\n",
    "plt.show()"
   ]
  },
  {
   "cell_type": "markdown",
   "metadata": {},
   "source": [
    "Then we initialize the agent with its default parameters, the signature below illustrates that the algorithm defaults to the Q-learning update rule (you could try tune the parameters to evaluate the impact)."
   ]
  },
  {
   "cell_type": "code",
   "execution_count": 11,
   "metadata": {},
   "outputs": [
    {
     "data": {
      "text/plain": [
       "<Signature (observation_shape: Tuple[int, int], n_actions: int, lr: float = 0.5, epsilon: float = 0.1, discount: float = 0.95, sarsa: bool = False, q_init: float = 0.0) -> None>"
      ]
     },
     "execution_count": 11,
     "metadata": {},
     "output_type": "execute_result"
    }
   ],
   "source": [
    "# Print out the constructor arguments for our Q-learning agent.\n",
    "AgentShelve.get_keyword_args('TabularQLearner')"
   ]
  },
  {
   "cell_type": "code",
   "execution_count": 12,
   "metadata": {},
   "outputs": [],
   "source": [
    "# Initialize our agent with the environment dimensions.\n",
    "agent = AgentShelve.retrieve(\n",
    "    agent='TabularQLearner', \n",
    "    keyword_arguments=dict(\n",
    "        observation_shape = env.observation_space.shape,\n",
    "        n_actions = env.action_space.n,\n",
    "    )\n",
    ")"
   ]
  },
  {
   "cell_type": "markdown",
   "metadata": {},
   "source": [
    "The code block below defines two helper functions for training and evaluating our Q-learning agent."
   ]
  },
  {
   "cell_type": "code",
   "execution_count": 13,
   "metadata": {},
   "outputs": [],
   "source": [
    "def train(_env, _agent, num_episodes: int) -> None:\n",
    "    # Helper function for defining an agent training loop.\n",
    "    \n",
    "    for i in range(num_episodes):\n",
    "        # Reinitialize environment after each episode.\n",
    "        state, goal_achieved, done = env.reset(), False, False\n",
    "        \n",
    "        while not done:\n",
    "            # Update to the next state.\n",
    "            a = _agent.sample(state)\n",
    "            next_state, r, done, _ = _env.step(a)\n",
    "\n",
    "            # Annotate an episode as done if the agent is actually in a goal-state (not if the time expires).\n",
    "            if done:\n",
    "                goal_achieved = _env.unwrapped._is_goal(_env.unwrapped.maze.objects.agent.positions[0])\n",
    "            \n",
    "            # Q-learning update\n",
    "            _agent.update(state, a, r, next_state, goal_achieved)\n",
    "\n",
    "            # Update state of control.\n",
    "            state = next_state\n",
    "            \n",
    "        # Cleanup environment variables\n",
    "        env.close()\n",
    "            \n",
    "            \n",
    "def evaluate(_env, _agent, num_evals: int) -> typing.Tuple[typing.List, typing.List, typing.List]:\n",
    "    # Helper function for defining an agent evaluation loop.\n",
    "    \n",
    "    rewards, lengths, success = [], [], []\n",
    "    for i in range(num_evals):\n",
    "        # Reinitialize environment and monitorring variables after each episode.\n",
    "        state, g, step, goal_achieved, done = env.reset(), 0, 0, False, False\n",
    "\n",
    "        while not done:\n",
    "            # Update to the next state.\n",
    "            a = agent.sample(state, behaviour_policy=False)\n",
    "            next_state, r, done, _ = env.step(a)\n",
    "            \n",
    "            # Annotate an episode as done if the agent is actually in a goal-state (not if the time expires).\n",
    "            if done:\n",
    "                goal_achieved = _env.unwrapped._is_goal(_env.unwrapped.maze.objects.agent.positions[0])\n",
    "            \n",
    "            # Update state of control.\n",
    "            g += r\n",
    "            step += 1\n",
    "            state = next_state\n",
    "\n",
    "        # Store agent episode data.\n",
    "        rewards.append(g)\n",
    "        lengths.append(step)\n",
    "        success.append(goal_achieved)\n",
    "        \n",
    "        # Cleanup environment variables\n",
    "        env.close()\n",
    "        \n",
    "    # Return agent evaluation data.\n",
    "    return rewards, lengths, success"
   ]
  },
  {
   "cell_type": "code",
   "execution_count": 14,
   "metadata": {},
   "outputs": [
    {
     "name": "stdout",
     "output_type": "stream",
     "text": [
      "100%|██████████████████████████████████████████████████████████████████████████████████| 50/50 [00:04<00:00, 10.86it/s]\n"
     ]
    }
   ],
   "source": [
    "# Define training parameters\n",
    "num_train = 50                # Number of outer loop repetitions (train-evaluate loop)\n",
    "num_eps = 5                   # Number of episodes to train an agent on within one outer loop repetition.\n",
    "num_test = 1                  # Number of episodes to evaluate an agent on within one outer loop repetition (can be set to 1 if greedy)\n",
    "\n",
    "# Test the freshly initialized agent (without parameter updates; may take a couple of seconds) and store results.\n",
    "data = [evaluate(_env=env, _agent=agent, num_evals=num_test)]\n",
    "\n",
    "# The progress of the agent can seem slow in the beginning for small `num_eps`\n",
    "# This will rapidly accelerate once a decent q-table is found.\n",
    "for _ in tqdm.trange(num_train, file=sys.stdout):\n",
    "    \n",
    "    # Train the agent for a number of times\n",
    "    train(_env=env, _agent=agent, num_episodes=num_eps)\n",
    "    \n",
    "    # Test the agent after it has updated its parameters.\n",
    "    data.append(evaluate(_env=env, _agent=agent, num_evals=num_test))\n"
   ]
  },
  {
   "cell_type": "code",
   "execution_count": 15,
   "metadata": {
    "scrolled": true
   },
   "outputs": [],
   "source": [
    "# OPTIONAL: For retraining the agent, reset its q-table here. Skip this snippet for the visualization. \n",
    "reset = False\n",
    "if reset:\n",
    "    agent.reset()"
   ]
  },
  {
   "cell_type": "markdown",
   "metadata": {},
   "source": [
    "### Visualization\n",
    "\n",
    "In the following two code blocks we visualize the (trained) Q-learning agent based on its training progress and its (learned) Q-table.\n",
    "\n",
    "**Progression Line Plots**"
   ]
  },
  {
   "cell_type": "code",
   "execution_count": 16,
   "metadata": {},
   "outputs": [
    {
     "data": {
      "image/png": "[encoded data removed]",
      "text/plain": [
       "<Figure size 864x288 with 3 Axes>"
      ]
     },
     "metadata": {
      "needs_background": "light"
     },
     "output_type": "display_data"
    }
   ],
   "source": [
    "# Create a simple line plots of the agent's rewards, episode-lengths, and success-rates.\n",
    "f, axarr = plt.subplots(1, 3, figsize=(12, 4))\n",
    "\n",
    "values = list(zip(*data))\n",
    "labels = ['Average Rewards', 'Average Lengths', 'Success Rate']\n",
    "\n",
    "for i, (vs, lab) in enumerate(zip(values, labels)):\n",
    "    axarr[i].plot(list(map(np.mean, vs)))\n",
    "    axarr[i].set_title(lab)\n",
    "    \n",
    "# Annotate x-labels\n",
    "f.text(0.5, -0.05, 'Number of Training iterations (num_train)', ha='center', fontsize=12)\n",
    "plt.tight_layout()\n",
    "plt.show()"
   ]
  },
  {
   "cell_type": "markdown",
   "metadata": {},
   "source": [
    "**Q-Table Policy Visualization**"
   ]
  },
  {
   "cell_type": "code",
   "execution_count": 17,
   "metadata": {},
   "outputs": [
    {
     "data": {
      "image/png": "[encoded data removed]",
      "text/plain": [
       "<Figure size 576x576 with 1 Axes>"
      ]
     },
     "metadata": {
      "needs_background": "light"
     },
     "output_type": "display_data"
    }
   ],
   "source": [
    "plt.figure(figsize=(8, 8))\n",
    "\n",
    "# Get the trained agent's policy over the entire table for visualizing its greedy policy.\n",
    "actions = np.argmax(agent._q_table, axis=-1)\n",
    "\n",
    "# Get undefined coordinates for removing clutter in the image.\n",
    "mask = env.unwrapped.maze.objects.obstacle.positions.tolist() + env.unwrapped.maze.objects.goal.positions.tolist()\n",
    "mask = set(map(tuple, mask))\n",
    "\n",
    "motions = [(env.unwrapped.motions[a] if np.unravel_index(i, shape=actions.shape) not in mask else [0, 0]) for i, a in enumerate(actions.ravel())]\n",
    "\n",
    "# Define a grid and extract for each grid-point a correct Quiver/ Arrow direction for visualizing the action-selection policy.\n",
    "X, Y = np.meshgrid(np.arange(img.shape[0]), np.arange(img.shape[1]))\n",
    "V, U = list(zip(*motions))\n",
    "U = np.asarray(U)\n",
    "V = np.negative(V)  # Motion is inverted vertically.\n",
    "\n",
    "# Show the maze image with overlayed quivers. The minlength=0.0 argument removes all quivers on invalid states.\n",
    "plt.imshow(img)\n",
    "plt.quiver(X, Y, U, V, scale=20, minlength=0.0, pivot='middle', linewidth=0.1) \n",
    "\n",
    "\n",
    "plt.show()"
   ]
  },
  {
   "cell_type": "markdown",
   "metadata": {},
   "source": [
    "## Benchmarking API\n",
    "\n",
    "To conveniently set up benchmarking experiments between varying agents, you can set up the entire train loop within the agents (see the agents.Agent interface) and evaluate the updated agents episodically. This process can be repeated for a number of times, either asynchronously or on one thread. The functionality is contained within the `benchmark` function, and its functionality mostly follows the `train` and `evaluate` function that was shown earlier for the simple Q-learning agent.\n"
   ]
  },
  {
   "cell_type": "code",
   "execution_count": 18,
   "metadata": {},
   "outputs": [
    {
     "name": "stdout",
     "output_type": "stream",
     "text": [
      "Help on function benchmark in module mazelab_experimenter.Experimenter:\n",
      "\n",
      "benchmark(env_id: str, _agent_gen: Callable, agent_test_kwargs: Dict, agent_train_kwargs: Dict, num_repetitions: int, num_iterations: int, num_episodes: int, num_trials: int, evaluation_hooks: List[mazelab_experimenter.Experimenter.Hook], verbose: bool = True, asynchronous: bool = False, **kwargs) -> List\n",
      "    Full functionality for benchmarking a single reinforcement learning.\n",
      "    \n",
      "    This function can either be run on a single thread (default) or run each repetition asynchronously batch-wise (NOT YET IMPLEMENTED).\n",
      "    \n",
      "    The function initializes a fresh gym environment given a string identifier along with a fresh agent, it then repeats a train-test loop\n",
      "    and logs only evaluation statistics through the evaluation_hooks. The function returns the per test-episode aggregated Hook data. \n",
      "    \n",
      "    The Hook class is a monitorring class similarly to keras.Callbacks that is used here strictly for outer-episode statistics.\n",
      "    To log inner-loop statistics, use the `evaluate` function instead.\n",
      "    \n",
      "    :param env_id: str Environment identifier that has been registered in the OpenAI Gym framework.\n",
      "    :param _agent_gen: typing.Callable A function that yields an Agent object to be trained and evaluated (benchmarked).\n",
      "    :param agent_test_kwargs: dict Keyword arguments for the agent's action selection during evaluation.\n",
      "    :param agent_train_kwargs: dict Keyword arguments specific for the agent's training loop.\n",
      "    :param num_repetitions: int Number of times to repeat the train-test procedure.\n",
      "    :param num_iterations: int Number of times to train-test the agent.\n",
      "    :param num_episodes: int Number of times to train the agent for each train-test iteration.\n",
      "    :param num_trials: int Number of times to evaluate the agent after an iteration of training (set to 1 if greedy-deterministic!).\n",
      "    :param evaluation_hooks: list of Hook objects that log evaluation statistics of the agent.\n",
      "    :param verbose: bool Whether to print out a progress bar and ETA for finishing the experiment.\n",
      "    :param asynchronous: bool Whether to use multiple threads for running repetitions (waits until last finished; NOT YET IMPLEMENTED).\n",
      "    \n",
      "    :returns: list of evaluation data (computed by the evaluation_hooks) for each repetition.\n",
      "    \n",
      "    :see: evaluate\n",
      "\n"
     ]
    }
   ],
   "source": [
    "help(benchmark)"
   ]
  },
  {
   "cell_type": "markdown",
   "metadata": {},
   "source": [
    "At the core for monitorring your agents' progress is the `Hook` class, this works similarly to the Callback class in Keras. The `benchmark` function takes as arguments the generator parameters for creating a Gym environment and a fresh agent, along with keyword arguments for the train and test loop for the agent, the benchmark size specification (repetitions, iterations, episodes, trials), and two lists of `Hook` objects. The outer `Hook`s are monitors that log the statistics on an episodic basis, while the inner `Hook`s do this during the generation of an action trace (during the episode). The implementation is highly generic and allows for a large degree of customization, we illustrate one example of an outer `Hook` below."
   ]
  },
  {
   "cell_type": "code",
   "execution_count": 19,
   "metadata": {},
   "outputs": [
    {
     "name": "stdout",
     "output_type": "stream",
     "text": [
      "Help on class GenericOuterHook in module mazelab_experimenter.Experimenter:\n",
      "\n",
      "class GenericOuterHook(Hook)\n",
      " |  GenericOuterHook(f_aggr: Callable = <function mean at 0x00000193E8B8E048>) -> None\n",
      " |  \n",
      " |  Simple episodic monitor for control agents that logs and aggregates the success-rate, cumulative reward, and episode length.\n",
      " |  \n",
      " |  Method resolution order:\n",
      " |      GenericOuterHook\n",
      " |      Hook\n",
      " |      abc.ABC\n",
      " |      builtins.object\n",
      " |  \n",
      " |  Methods defined here:\n",
      " |  \n",
      " |  __init__(self, f_aggr: Callable = <function mean at 0x00000193E8B8E048>) -> None\n",
      " |      Initialize the monitorring hook with an aggregation function. Defaults to a sample average.\n",
      " |      \n",
      " |      :param f_aggr: typing.Callable Aggregation function for summarizing collected statistics.\n",
      " |  \n",
      " |  aggregate(self, **kwargs) -> Tuple[float, float, float]\n",
      " |      Aggregate the logged statistics over the episodes with self._f_aggr in order of self.labels.\n",
      " |  \n",
      " |  clear(self) -> None\n",
      " |      Clear internal state variables.\n",
      " |  \n",
      " |  collect(self, success: float, cumulative: float, time: int, **kwargs) -> None\n",
      " |      Log whether the agent reached a goal state, its cumulative episode reward, and the episode length.\n",
      " |  \n",
      " |  labels(self) -> List\n",
      " |      Get labels for the aggregated values.\n",
      " |  \n",
      " |  ----------------------------------------------------------------------\n",
      " |  Data and other attributes defined here:\n",
      " |  \n",
      " |  __abstractmethods__ = frozenset()\n",
      " |  \n",
      " |  ----------------------------------------------------------------------\n",
      " |  Data descriptors inherited from Hook:\n",
      " |  \n",
      " |  __dict__\n",
      " |      dictionary for instance variables (if defined)\n",
      " |  \n",
      " |  __weakref__\n",
      " |      list of weak references to the object (if defined)\n",
      "\n"
     ]
    }
   ],
   "source": [
    "help(GenericOuterHook)"
   ]
  },
  {
   "cell_type": "markdown",
   "metadata": {},
   "source": [
    "**Example Benchmark of Planning steps in DynaQ**: To illustrate the functionality of the benchmarking API, the code below defines a benchmarking experiments that tests out three values for the number of planning steps in DynaQ: $n \\in \\{0, 5, 50\\}$. Additionally it shows a DynaQ agent with Prioritized Sweeping and $n=5$ planning steps, however this agent is trained here for testing purposes. The environment used is the maze that was shown as an example in Chapter 8.2 of \\[[R. Sutton and A. Barto, 2018](http://incompleteideas.net/book/the-book-2nd.html)\\], which is also defined/ shown below:"
   ]
  },
  {
   "cell_type": "code",
   "execution_count": 20,
   "metadata": {},
   "outputs": [
    {
     "data": {
      "image/png": "[encoded data removed]",
      "text/plain": [
       "<Figure size 432x288 with 1 Axes>"
      ]
     },
     "metadata": {
      "needs_background": "light"
     },
     "output_type": "display_data"
    }
   ],
   "source": [
    "# Create and register a MazeLab random-shape-maze.\n",
    "name = EnvRegister.register(\n",
    "    maze_type='dyna_example', \n",
    "    name=f'sparse_dyna_example-v0', \n",
    "    env_args=dict(\n",
    "        shortest_path_rewards=True\n",
    "    ),\n",
    "    generator_args=dict(),\n",
    "    initialization_args=dict(\n",
    "        start_pos=[[3, 1]], goal_pos=[[1, 9]]\n",
    "    ),\n",
    "    time_limit=2_000,\n",
    "    override=True\n",
    ")\n",
    "\n",
    "# Instantiate the registered MazeLab environment as a Gym environment.\n",
    "env = gym.make(name)\n",
    "\n",
    "# Illustrate the randomly generated maze. \n",
    "_ = env.reset()\n",
    "img = env.unwrapped.get_image()\n",
    "env.close()\n",
    "\n",
    "plt.imshow(img)\n",
    "plt.show()"
   ]
  },
  {
   "cell_type": "markdown",
   "metadata": {},
   "source": [
    "To compare agents, we define three different generators for initializing the same agent with different hyperparameters."
   ]
  },
  {
   "cell_type": "code",
   "execution_count": 27,
   "metadata": {},
   "outputs": [],
   "source": [
    "# Initialize our agent with the environment dimensions.\n",
    "agent_generators = [\n",
    "    lambda: AgentShelve.retrieve(\n",
    "            agent='TabularQLearner', \n",
    "            keyword_arguments=dict(\n",
    "            observation_shape = env.observation_space.shape,\n",
    "            n_actions = env.action_space.n,\n",
    "            q_init=0, discount=0.95, epsilon=0.1, lr=0.1\n",
    "            )\n",
    "    ),\n",
    "    lambda: AgentShelve.retrieve(  # n = 0\n",
    "        agent='TabularDynaQ', \n",
    "        keyword_arguments=dict(\n",
    "            observation_shape = env.observation_space.shape,\n",
    "            n_actions = env.action_space.n,\n",
    "            q_init=0, n_iter=0, discount=0.95, epsilon=0.1, lr=0.1\n",
    "        )\n",
    "    ),\n",
    "    lambda: AgentShelve.retrieve(  # n = 5\n",
    "        agent='TabularDynaQ', \n",
    "        keyword_arguments=dict(\n",
    "            observation_shape = env.observation_space.shape,\n",
    "            n_actions = env.action_space.n,\n",
    "            q_init=0, n_iter=5, discount=0.95, epsilon=0.1, lr=0.1\n",
    "        )\n",
    "    ),\n",
    "    lambda: AgentShelve.retrieve(  # n = 5 Prioritized Sweeping\n",
    "        agent='TabularDynaQ', \n",
    "        keyword_arguments=dict(\n",
    "            observation_shape = env.observation_space.shape,\n",
    "            n_actions = env.action_space.n,\n",
    "            q_init=0, n_iter=5, discount=0.95, epsilon=0.1, lr=0.1, priority=0.5\n",
    "        )\n",
    "    ),\n",
    "    lambda: AgentShelve.retrieve(  # n = 50\n",
    "        agent='TabularDynaQ', \n",
    "        keyword_arguments=dict(\n",
    "            observation_shape = env.observation_space.shape,\n",
    "            n_actions = env.action_space.n,\n",
    "            q_init=0, n_iter=50, discount=0.95, epsilon=0.1, lr=0.1\n",
    "        )\n",
    "    )\n",
    "]"
   ]
  },
  {
   "cell_type": "markdown",
   "metadata": {},
   "source": [
    "And finally we run the actual benchmark in the block below."
   ]
  },
  {
   "cell_type": "code",
   "execution_count": 28,
   "metadata": {},
   "outputs": [
    {
     "name": "stdout",
     "output_type": "stream",
     "text": [
      "-- Benchmarking Repetition 1 / 5 --- ETA:  --- Rate: 0 sec/ it\n",
      "Train-Test loop: 100%|█████████████████████████████████████████████████████████████████| 50/50 [00:07<00:00,  6.71it/s]\n",
      "-- Benchmarking Repetition 2 / 5 --- ETA: 0:00:29 --- Rate: 7 sec/ it\n",
      "Train-Test loop: 100%|█████████████████████████████████████████████████████████████████| 50/50 [00:07<00:00,  6.89it/s]\n",
      "-- Benchmarking Repetition 3 / 5 --- ETA: 0:00:22 --- Rate: 7 sec/ it\n",
      "Train-Test loop: 100%|█████████████████████████████████████████████████████████████████| 50/50 [00:08<00:00,  6.05it/s]\n",
      "-- Benchmarking Repetition 4 / 5 --- ETA: 0:00:15 --- Rate: 7 sec/ it\n",
      "Train-Test loop: 100%|█████████████████████████████████████████████████████████████████| 50/50 [00:06<00:00,  7.48it/s]\n",
      "-- Benchmarking Repetition 5 / 5 --- ETA: 0:00:07 --- Rate: 7 sec/ it\n",
      "Train-Test loop: 100%|█████████████████████████████████████████████████████████████████| 50/50 [00:07<00:00,  7.13it/s]\n",
      "-- Benchmarking Repetition 1 / 5 --- ETA:  --- Rate: 0 sec/ it\n",
      "Train-Test loop: 100%|█████████████████████████████████████████████████████████████████| 50/50 [00:07<00:00,  6.56it/s]\n",
      "-- Benchmarking Repetition 2 / 5 --- ETA: 0:00:30 --- Rate: 7 sec/ it\n",
      "Train-Test loop: 100%|█████████████████████████████████████████████████████████████████| 50/50 [00:07<00:00,  6.36it/s]\n",
      "-- Benchmarking Repetition 3 / 5 --- ETA: 0:00:23 --- Rate: 7 sec/ it\n",
      "Train-Test loop: 100%|█████████████████████████████████████████████████████████████████| 50/50 [00:07<00:00,  6.60it/s]\n",
      "-- Benchmarking Repetition 4 / 5 --- ETA: 0:00:15 --- Rate: 7 sec/ it\n",
      "Train-Test loop: 100%|█████████████████████████████████████████████████████████████████| 50/50 [00:07<00:00,  7.02it/s]\n",
      "-- Benchmarking Repetition 5 / 5 --- ETA: 0:00:07 --- Rate: 7 sec/ it\n",
      "Train-Test loop: 100%|█████████████████████████████████████████████████████████████████| 50/50 [00:07<00:00,  6.46it/s]\n",
      "-- Benchmarking Repetition 1 / 5 --- ETA:  --- Rate: 0 sec/ it\n",
      "Train-Test loop: 100%|█████████████████████████████████████████████████████████████████| 50/50 [00:08<00:00,  5.94it/s]\n",
      "-- Benchmarking Repetition 2 / 5 --- ETA: 0:00:33 --- Rate: 8 sec/ it\n",
      "Train-Test loop: 100%|█████████████████████████████████████████████████████████████████| 50/50 [00:09<00:00,  5.44it/s]\n",
      "-- Benchmarking Repetition 3 / 5 --- ETA: 0:00:26 --- Rate: 8 sec/ it\n",
      "Train-Test loop: 100%|█████████████████████████████████████████████████████████████████| 50/50 [00:09<00:00,  5.12it/s]\n",
      "-- Benchmarking Repetition 4 / 5 --- ETA: 0:00:18 --- Rate: 9 sec/ it\n",
      "Train-Test loop: 100%|█████████████████████████████████████████████████████████████████| 50/50 [00:08<00:00,  5.59it/s]\n",
      "-- Benchmarking Repetition 5 / 5 --- ETA: 0:00:09 --- Rate: 9 sec/ it\n",
      "Train-Test loop: 100%|█████████████████████████████████████████████████████████████████| 50/50 [00:09<00:00,  5.34it/s]\n",
      "-- Benchmarking Repetition 1 / 5 --- ETA:  --- Rate: 0 sec/ it\n",
      "Train-Test loop: 100%|█████████████████████████████████████████████████████████████████| 50/50 [00:10<00:00,  4.58it/s]\n",
      "-- Benchmarking Repetition 2 / 5 --- ETA: 0:00:44 --- Rate: 11 sec/ it\n",
      "Train-Test loop: 100%|█████████████████████████████████████████████████████████████████| 50/50 [00:10<00:00,  4.60it/s]\n",
      "-- Benchmarking Repetition 3 / 5 --- ETA: 0:00:32 --- Rate: 10 sec/ it\n",
      "Train-Test loop: 100%|█████████████████████████████████████████████████████████████████| 50/50 [00:11<00:00,  4.30it/s]\n",
      "-- Benchmarking Repetition 4 / 5 --- ETA: 0:00:22 --- Rate: 11 sec/ it\n",
      "Train-Test loop: 100%|█████████████████████████████████████████████████████████████████| 50/50 [00:11<00:00,  4.49it/s]\n",
      "-- Benchmarking Repetition 5 / 5 --- ETA: 0:00:11 --- Rate: 11 sec/ it\n",
      "Train-Test loop: 100%|█████████████████████████████████████████████████████████████████| 50/50 [00:11<00:00,  4.53it/s]\n",
      "-- Benchmarking Repetition 1 / 5 --- ETA:  --- Rate: 0 sec/ it\n",
      "Train-Test loop: 100%|█████████████████████████████████████████████████████████████████| 50/50 [00:50<00:00,  1.01s/it]\n",
      "-- Benchmarking Repetition 2 / 5 --- ETA: 0:03:22 --- Rate: 50 sec/ it\n",
      "Train-Test loop: 100%|█████████████████████████████████████████████████████████████████| 50/50 [00:51<00:00,  1.02s/it]\n",
      "-- Benchmarking Repetition 3 / 5 --- ETA: 0:02:32 --- Rate: 50 sec/ it\n",
      "Train-Test loop: 100%|█████████████████████████████████████████████████████████████████| 50/50 [00:48<00:00,  1.03it/s]\n",
      "-- Benchmarking Repetition 4 / 5 --- ETA: 0:01:40 --- Rate: 50 sec/ it\n",
      "Train-Test loop: 100%|█████████████████████████████████████████████████████████████████| 50/50 [00:47<00:00,  1.05it/s]\n",
      "-- Benchmarking Repetition 5 / 5 --- ETA: 0:00:49 --- Rate: 49 sec/ it\n",
      "Train-Test loop: 100%|█████████████████████████████████████████████████████████████████| 50/50 [00:48<00:00,  1.03it/s]\n"
     ]
    }
   ],
   "source": [
    "# Benchmark configuration\n",
    "r = 5\n",
    "it = 50\n",
    "eps = 3\n",
    "trials = 1\n",
    "\n",
    "# Benchmark data for each agent.\n",
    "benchmark_data = list()\n",
    "\n",
    "for agent_gen in agent_generators:\n",
    "    \n",
    "    # Run the benchmark\n",
    "    benchmark_data.append(\n",
    "        benchmark(\n",
    "            env_id=name, \n",
    "            _agent_gen=agent_gen, \n",
    "            agent_test_kwargs=dict(behaviour_policy=False),\n",
    "            agent_train_kwargs=dict(),\n",
    "            num_repetitions=r,\n",
    "            num_iterations=it,\n",
    "            num_episodes=eps,\n",
    "            num_trials=trials,\n",
    "            evaluation_hooks=[GenericOuterHook()],\n",
    "            verbose=True,\n",
    "            asynchronous=False\n",
    "        )\n",
    "    )"
   ]
  },
  {
   "cell_type": "markdown",
   "metadata": {},
   "source": [
    "**Visualize Benchmark Results**:"
   ]
  },
  {
   "cell_type": "code",
   "execution_count": 29,
   "metadata": {},
   "outputs": [
    {
     "data": {
      "image/png": "[encoded data removed]",
      "text/plain": [
       "<Figure size 576x360 with 1 Axes>"
      ]
     },
     "metadata": {
      "needs_background": "light"
     },
     "output_type": "display_data"
    }
   ],
   "source": [
    "plt.figure(figsize=(8, 5))\n",
    "for a, l in zip(benchmark_data, [r'Q-learning', r'$n=0$', r'$n=5$', r'$n=5$ PS', r'$n=50$']):\n",
    "    a = np.asarray(a)\n",
    "    \n",
    "    # Plot the average lengths and approximation error.\n",
    "    mean_length = a[...,2][...,0].mean(axis=0)\n",
    "    std_length = a[...,2][...,0].std(axis=0) / np.sqrt(r)\n",
    "\n",
    "    plt.plot(mean_length, label=l, linewidth=2)\n",
    "    plt.fill_between(np.arange(len(mean_length)), mean_length + std_length, mean_length - std_length, alpha=0.1)\n",
    "\n",
    "# Optimal solution on this example is 14 steps.\n",
    "plt.hlines(14, 0, 50, label='Optimal solution.', color='black', linewidth=2)\n",
    "    \n",
    "plt.xlim([0, 50])\n",
    "\n",
    "plt.title(\"Effect of planning steps $n$ in DynaQ on training time\", fontsize=13)\n",
    "plt.ylabel(\"Number of steps to reach goal\", fontsize=12)\n",
    "plt.xlabel(\"Number of training iterations\", fontsize=12)\n",
    "\n",
    "plt.legend(fontsize=12)\n",
    "\n",
    "plt.tight_layout()\n",
    "plt.show()"
   ]
  },
  {
   "cell_type": "markdown",
   "metadata": {},
   "source": [
    "What we see in this benchmark's results is that the DynaQ agent with $n=50$ converges almost instantly to the optimal policy (14 steps). The $n=5$ agent also converges swiftly, and the non-planning agents ($Q$-learning $\\equiv n=0$) converge much slower. The basic Q-learning agent eventually does seem to learn the optimal policy first (14 steps). For the $n=5$ agents the progress seems on par with either Prioritized Sweeping or no Priotized Sweeping, but this may scale differently with different environment dimensionalities as argued in Chapter 8.4 of Sutton's book."
   ]
  },
  {
   "cell_type": "markdown",
   "metadata": {},
   "source": [
    "## Conclusion\n",
    "\n",
    "That's all folks!"
   ]
  }
 ],
 "metadata": {
  "kernelspec": {
   "display_name": "Python 3",
   "language": "python",
   "name": "python3"
  },
  "language_info": {
   "codemirror_mode": {
    "name": "ipython",
    "version": 3
   },
   "file_extension": ".py",
   "mimetype": "text/x-python",
   "name": "python",
   "nbconvert_exporter": "python",
   "pygments_lexer": "ipython3",
   "version": "3.7.10"
  }
 },
 "nbformat": 4,
 "nbformat_minor": 4
}
